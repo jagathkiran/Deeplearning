{
 "cells": [
  {
   "cell_type": "markdown",
   "id": "3856071f",
   "metadata": {},
   "source": [
    "## Advanced Loss Functions and Parameter Tuning\n",
    "\n",
    "#### Step1: The CNN model is compiled using Adagrad optimizer"
   ]
  },
  {
   "cell_type": "code",
   "execution_count": null,
   "id": "8b9a9e57",
   "metadata": {},
   "outputs": [],
   "source": [
    "# -*- coding: utf-8 -*-\n",
    "\"\"\"\n",
    "Created on Mon Sep 14 01:29:13 2020\n",
    "@author: meenakshi.h\n",
    "\"\"\"\n",
    "from keras.datasets import mnist\n",
    "import tensorflow\n",
    "from tensorflow.keras.models import Sequential\n",
    "from tensorflow.keras.layers import Dense, Flatten\n",
    "from tensorflow.keras.layers import Conv2D, MaxPooling2D\n",
    "from tensorflow.keras.layers import BatchNormalization"
   ]
  },
  {
   "cell_type": "code",
   "execution_count": null,
   "id": "90cd4c87",
   "metadata": {},
   "outputs": [],
   "source": [
    "# Model configuration\n",
    "batch_size = 250\n",
    "no_epochs = 5\n",
    "no_classes = 10\n",
    "validation_split = 0.2\n",
    "verbosity = 1\n",
    "# Load KMNIST dataset\n",
    "(input_train, target_train), (input_test, target_test) =mnist.load_data()\n",
    "# Shape of the input sets\n",
    "input_train_shape = input_train.shape\n",
    "input_test_shape = input_test.shape "
   ]
  },
  {
   "cell_type": "code",
   "execution_count": null,
   "id": "0a381b1e",
   "metadata": {},
   "outputs": [],
   "source": [
    "# Keras layer input shape\n",
    "input_shape = (input_train_shape[1], input_train_shape[2], 1)\n",
    "# Reshape the training data to include channels\n",
    "input_train = input_train.reshape(input_train_shape[0], input_train_shape[1], input_train_shape[2], 1)\n",
    "input_test = input_test.reshape(input_test_shape[0], input_test_shape[1], input_test_shape[2], 1)"
   ]
  },
  {
   "cell_type": "code",
   "execution_count": null,
   "id": "8227ea83",
   "metadata": {},
   "outputs": [],
   "source": [
    "# Parse numbers as floats\n",
    "input_train = input_train.astype('float32')\n",
    "input_test = input_test.astype('float32')\n",
    "# Normalize input data\n",
    "input_train = input_train / 255\n",
    "input_test = input_test / 255"
   ]
  },
  {
   "cell_type": "code",
   "execution_count": null,
   "id": "605a964b",
   "metadata": {},
   "outputs": [],
   "source": [
    "# Create the model\n",
    "model = Sequential()\n",
    "model.add(Conv2D(32, kernel_size=(3, 3), activation='relu', input_shape=input_shape))\n",
    "model.add(BatchNormalization())\n",
    "model.add(MaxPooling2D(pool_size=(2, 2)))\n",
    "model.add(BatchNormalization())\n",
    "model.add(Conv2D(64, kernel_size=(3, 3), activation='relu'))\n",
    "model.add(BatchNormalization())\n",
    "model.add(MaxPooling2D(pool_size=(2, 2)))\n",
    "model.add(BatchNormalization())\n",
    "model.add(Flatten())\n",
    "model.add(Dense(256, activation='relu'))\n",
    "model.add(BatchNormalization())\n",
    "model.add(Dense(no_classes, activation='softmax'))"
   ]
  },
  {
   "cell_type": "code",
   "execution_count": null,
   "id": "28ad382e",
   "metadata": {},
   "outputs": [],
   "source": [
    "# Compile the model\n",
    "model.compile(loss=tensorflow.keras.losses.sparse_categorical_crossentropy,optimizer=tensorflow.keras.optimizers.Adagrad(\n",
    "    learning_rate=0.001,\n",
    "    initial_accumulator_value=0.1,\n",
    "    epsilon=1e-07))"
   ]
  },
  {
   "cell_type": "code",
   "execution_count": null,
   "id": "4140b3ee",
   "metadata": {},
   "outputs": [],
   "source": [
    "# Fit data to model\n",
    "history = model.fit(input_train, target_train,\n",
    "            batch_size=batch_size,\n",
    "            epochs=no_epochs,\n",
    "            verbose=verbosity,\n",
    "            validation_split=validation_split)\n",
    "# Generate generalization metric\n",
    "score = model.evaluate(input_test, target_test, verbose=0)\n",
    "print(f'Test loss using Adagrad: {score}')"
   ]
  },
  {
   "cell_type": "markdown",
   "id": "5b31d59e",
   "metadata": {},
   "source": [
    "#### Step2: Compile the CNN model with Adadelta Optimizer given below replacing Adagrad in the above CNN model"
   ]
  },
  {
   "cell_type": "code",
   "execution_count": null,
   "id": "fa3305ab",
   "metadata": {},
   "outputs": [],
   "source": [
    "model.compile(loss=tensorflow.keras.losses.sparse_categorical_crossentropy,\n",
    "optimizer = tensorflow.keras.optimizers.Adadelta(learning_rate=0.001, \n",
    "rho=0.95, epsilon=1e-07, name=\"Adadelta\"))"
   ]
  },
  {
   "cell_type": "markdown",
   "id": "b02a8ece",
   "metadata": {},
   "source": [
    "#### Step3: Compile the CNN model with Adam-Adaptive momentum estimation given below replacing Adagrad in the above CNN model"
   ]
  },
  {
   "cell_type": "code",
   "execution_count": null,
   "id": "023f4912",
   "metadata": {},
   "outputs": [],
   "source": [
    "model.compile(loss=tensorflow.keras.losses.sparse_categorical_crossentropy,\n",
    "optimizer=tensorflow.keras.optimizers.Adam(learning_rate=0.01),\n",
    "metrics=['accuracy'])"
   ]
  },
  {
   "cell_type": "markdown",
   "id": "2a3267fc",
   "metadata": {},
   "source": [
    "#### Step4: Compile the CNN model with Adabound momentum estimation given below replacing Adagrad in the above CNN model"
   ]
  },
  {
   "cell_type": "code",
   "execution_count": null,
   "id": "3cf30f87",
   "metadata": {},
   "outputs": [],
   "source": [
    "from tensorflow.keras.optimizers import Adagrad\n",
    "from tensorflow.keras import losses\n",
    "model.compile(loss=losses.sparse_categorical_crossentropy, optimizer=Adagrad(learning_rate=1e-3))"
   ]
  },
  {
   "cell_type": "code",
   "execution_count": null,
   "id": "5f946ad4",
   "metadata": {},
   "outputs": [],
   "source": [
    "import matplotlib.pyplot as plt\n",
    "x=[1,2,3,4,5]\n",
    "Loss1=[0.6218,0.2478,0.1874,0.158,0.132]\n",
    "accuracy1=[0.8162,0.9332,0.9503,0.9578,0.9599]\n",
    "Loss2=[2.8335,2.2018,1.7276,1.3882,1.1422]\n",
    "accuracy2=[0.1234,0.2605,0.4108,0.5408,0.6399]\n",
    "Loss3=[0.1073,0.0382,0.0261,0.022,0.0158]\n",
    "accuracy3=[0.9673,0.9677,0.9912,0.9926,0.9949]\n",
    "Loss4=[0.1139,0.0281,0.0153,0.009,0.006]\n",
    "accuracy4=[0.9646,0.992,0.9963,0.9984,0.992]\n",
    "fig, axs = plt.subplots(nrows=2, ncols=2, figsize=(6.4, 8.5))\n",
    "#adgrad\n",
    "axs[0, 0].plot(x, Loss1,  label=\"Loss\")\n",
    "axs[0, 0].plot(x, accuracy1, label=\"Accuracy\")\n",
    "axs[0, 0].legend()\n",
    "axs[0, 0].grid()\n",
    "axs[0, 0].set(title=\"Adagrad\")\n",
    "#Adadelta\n",
    "axs[0, 1].plot(x, Loss2,  label=\"Loss\")\n",
    "axs[0, 1].plot(x, accuracy2, label=\"Accuracy\")\n",
    "axs[0, 1].legend()\n",
    "axs[0, 1].grid()\n",
    "axs[0, 1].set(title=\"Adadelta\")\n",
    "#Adam\n",
    "axs[1, 0].plot(x, Loss3,  label=\"Loss\")\n",
    "axs[1, 0].plot(x, accuracy3, label=\"Accuracy\")\n",
    "axs[1, 0].legend()\n",
    "axs[1, 0].grid()\n",
    "axs[1, 0].set(title=\"Adam\")\n",
    "#Adabound\n",
    "axs[1, 1].plot(x, Loss4,  label=\"Loss\")\n",
    "axs[1, 1].plot(x, accuracy4, label=\"Accuracy\")\n",
    "axs[1, 1].legend()\n",
    "axs[1, 1].grid()\n",
    "axs[1, 1].set(title=\"Adabound\")\n",
    "fig.tight_layout()\n",
    "plt.show()"
   ]
  }
 ],
 "metadata": {
  "kernelspec": {
   "display_name": "deepl-env",
   "language": "python",
   "name": "python3"
  },
  "language_info": {
   "codemirror_mode": {
    "name": "ipython",
    "version": 3
   },
   "file_extension": ".py",
   "mimetype": "text/x-python",
   "name": "python",
   "nbconvert_exporter": "python",
   "pygments_lexer": "ipython3",
   "version": "3.11.13"
  }
 },
 "nbformat": 4,
 "nbformat_minor": 5
}
