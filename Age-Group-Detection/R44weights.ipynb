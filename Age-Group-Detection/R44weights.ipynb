{
 "cells": [
  {
   "cell_type": "code",
   "execution_count": null,
   "metadata": {},
   "outputs": [],
   "source": [
    "import os\n",
    "import re\n",
    "import numpy as np\n",
    "import pandas as pd\n",
    "from keras.models import Sequential\n",
    "from keras.layers import Dense, Flatten, InputLayer\n",
    "from sklearn.preprocessing import LabelEncoder\n",
    "from tensorflow.python.keras import utils\n",
    "import keras\n",
    "import imageio \n",
    "from PIL import Image "
   ]
  },
  {
   "cell_type": "code",
   "execution_count": null,
   "metadata": {
    "collapsed": true
   },
   "outputs": [],
   "source": [
    "# Reading the data\n",
    "train = pd.read_csv('agedetectiontrain/train.csv')\n",
    "\n",
    "# Image resizing of test data into single numpy array\n",
    "temp = []\n",
    "for img_name in train.ID:\n",
    "    img_path = os.path.join('agedetectiontrain/Train', img_name)\n",
    "    img = imageio.imread(img_path)\n",
    "    img = np.array(Image.fromarray(img).resize((32, 32))).astype('float32')    \n",
    "    temp.append(img)\n",
    "\n",
    "train_x = np.stack(temp)\n",
    "\n",
    "# Normalizing the images\n",
    "train_x = train_x / 255.\n",
    "\n",
    "# Encoding the categorical variable to numeric\n",
    "lb = LabelEncoder()\n",
    "train_y = lb.fit_transform(train.Class)\n",
    "train_y = keras.utils.to_categorical(train_y)"
   ]
  },
  {
   "cell_type": "code",
   "execution_count": null,
   "metadata": {
    "collapsed": true
   },
   "outputs": [],
   "source": [
    "# Specifying all the parameters we will be using in our network\n",
    "input_num_units = (32, 32, 3)\n",
    "hidden_num_units = 500\n",
    "output_num_units = 3\n",
    "\n",
    "epochs = 100\n",
    "batch_size = 128"
   ]
  },
  {
   "cell_type": "code",
   "execution_count": null,
   "metadata": {
    "collapsed": true
   },
   "outputs": [],
   "source": [
    "def weight_initializer(list_of_weights, init_weight_names):\n",
    "    for weight_init in range(len(list_of_weights)):        \n",
    "        # Writing structure of model  \n",
    "        model = Sequential([\n",
    "          InputLayer(input_shape=input_num_units),\n",
    "          Flatten(),\n",
    "          Dense(units=hidden_num_units, kernel_initializer=list_of_weights[weight_init], activation='relu'),\n",
    "          Dense(units=output_num_units, kernel_initializer=list_of_weights[weight_init], activation='softmax'),\n",
    "        ])\n",
    "        # Defining parameters like optmizer, loss function and evaluating metric\n",
    "        model.compile(loss='categorical_crossentropy', # \n",
    "                      optimizer=keras.optimizers.Adam(), # Learning rate and momentum can be passed inside optimizer\n",
    "                      metrics=['accuracy'])\n",
    "\n",
    "        # Traning the model and writing log file for TensorBoard\n",
    "        \n",
    "        logdir = r'weights\\\\' + init_weight_names[weight_init] # Each log file needs to be written in a distinct directory. (Mandatory)        \n",
    "\n",
    "        # To store tensorboard graph logs\n",
    "        cb = keras.callbacks.TensorBoard(log_dir=logdir, write_graph=False) \n",
    "        \n",
    "        print('Model building using ' + init_weight_names[weight_init] + ' Initializer')\n",
    "        history = model.fit(train_x, train_y, epochs=epochs, \n",
    "                           validation_split=0.2,\n",
    "                           callbacks=[cb])\n",
    "        print('Built model successfully.')\n",
    "        print('')"
   ]
  },
  {
   "cell_type": "code",
   "execution_count": null,
   "metadata": {
    "scrolled": true
   },
   "outputs": [],
   "source": [
    "list_of_weights = [keras.initializers.RandomNormal(), keras.initializers.glorot_normal(), \n",
    "                    keras.initializers.he_normal(), keras.initializers.Orthogonal()]\n",
    "init_weight_names = ['Random', 'Glorot', 'He', 'Orthogonal']\n",
    "weight_initializer(list_of_weights, init_weight_names)"
   ]
  },
  {
   "cell_type": "markdown",
   "metadata": {},
   "source": [
    "#### Open tensorboard in `weights` directory\n",
    "Graphs will differ due to not setting seed."
   ]
  }
 ],
 "metadata": {
  "kernelspec": {
   "display_name": "deepl-env",
   "language": "python",
   "name": "python3"
  },
  "language_info": {
   "codemirror_mode": {
    "name": "ipython",
    "version": 3
   },
   "file_extension": ".py",
   "mimetype": "text/x-python",
   "name": "python",
   "nbconvert_exporter": "python",
   "pygments_lexer": "ipython3",
   "version": "3.12.11"
  }
 },
 "nbformat": 4,
 "nbformat_minor": 2
}
