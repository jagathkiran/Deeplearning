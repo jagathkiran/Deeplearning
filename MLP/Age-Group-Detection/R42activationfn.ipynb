{
 "cells": [
  {
   "cell_type": "code",
   "execution_count": null,
   "metadata": {},
   "outputs": [],
   "source": [
    "import os\n",
    "import re\n",
    "import numpy as np\n",
    "import pandas as pd\n",
    "from keras.models import Sequential\n",
    "from keras.layers import Dense, Flatten, InputLayer\n",
    "from sklearn.preprocessing import LabelEncoder\n",
    "from tensorflow.python.keras import utils\n",
    "import keras\n",
    "import imageio \n",
    "from PIL import Image "
   ]
  },
  {
   "cell_type": "code",
   "execution_count": null,
   "metadata": {
    "collapsed": true
   },
   "outputs": [],
   "source": [
    "# Reading the data\n",
    "train = pd.read_csv('agedetectiontrain/train.csv')\n",
    "\n",
    "# Image resizing of test data into single numpy array\n",
    "temp = []\n",
    "for img_name in train.ID:\n",
    "    img_path = os.path.join('agedetectiontrain/Train', img_name)\n",
    "    img = imageio.imread(img_path)\n",
    "    img = np.array(Image.fromarray(img).resize((32, 32))).astype('float32')    \n",
    "    temp.append(img)\n",
    "\n",
    "train_x = np.stack(temp)\n",
    "\n",
    "# Normalizing the images\n",
    "train_x = train_x / 255.\n",
    "\n",
    "# Encoding the categorical variable to numeric\n",
    "lb = LabelEncoder()\n",
    "train_y = lb.fit_transform(train.Class)\n",
    "train_y = keras.utils.to_categorical(train_y)"
   ]
  },
  {
   "cell_type": "code",
   "execution_count": null,
   "metadata": {
    "collapsed": true
   },
   "outputs": [],
   "source": [
    "# Specifying all the parameters we will be using in our network\n",
    "input_num_units = (32, 32, 3)\n",
    "hidden_num_units = 500\n",
    "output_num_units = 3\n",
    "\n",
    "epochs = 100\n",
    "batch_size = 128"
   ]
  },
  {
   "cell_type": "code",
   "execution_count": null,
   "metadata": {
    "collapsed": true
   },
   "outputs": [],
   "source": [
    "def models_with_different_activation_fn(list_of_activation_fn):    \n",
    "    \n",
    "    for i in range(len(list_of_activation_fn)):        \n",
    "        # Defining the network\n",
    "        model = Sequential([\n",
    "          InputLayer(input_shape=input_num_units),\n",
    "          Flatten(),\n",
    "          Dense(units=hidden_num_units, activation=list_of_activation_fn[i]),\n",
    "          Dense(units=output_num_units, activation='softmax'),\n",
    "        ])\n",
    "        model.compile(loss='categorical_crossentropy',\n",
    "                  optimizer=keras.optimizers.Adam(),\n",
    "                  metrics=['accuracy'])\n",
    "\n",
    "        # Traning the model and writing log files for TensorBoard in distinct directories                \n",
    "        logdir = r'activation\\\\' + list_of_activation_fn[i] # Each log file needs to be written in a distinct directory. (Mandatory)\n",
    "        \n",
    "        # Writing graph will take time. Hence, keeping it False.\n",
    "        cb = keras.callbacks.TensorBoard(log_dir=logdir, write_graph=False)         \n",
    "        print('Building model using '+ list_of_activation_fn[i] + ' activation function')\n",
    "        \n",
    "        history = model.fit(train_x, train_y, epochs=epochs, \n",
    "                           validation_split=0.2,\n",
    "                           callbacks=[cb])\n",
    "        print('Model built sucessfully.')\n",
    "        print('')"
   ]
  },
  {
   "cell_type": "code",
   "execution_count": null,
   "metadata": {},
   "outputs": [],
   "source": [
    "act = ['linear', 'sigmoid', 'tanh', 'relu', 'softmax']\n",
    "models_with_different_activation_fn(act)"
   ]
  },
  {
   "cell_type": "markdown",
   "metadata": {},
   "source": [
    "#### Run following command in Anaconda prompt after changing directory to the place which holds `activation`\n",
    "tensorboard --logdir=activation  \n",
    "In case, if above command doesn't open Tensorboard in the browser then change the port manually as shown:  \n",
    "tensorboard --logdir=activation/ --host localhost --port 8088  \n",
    "  \n",
    "Use .* under tensorboard to visualize all 4 graphs in first section.  \n",
    "You can also change `Horizontal Axis` from `Step` to `Relative` which describes relative time taken by each algorithm to finish."
   ]
  }
 ],
 "metadata": {
  "kernelspec": {
   "display_name": "deepl-env",
   "language": "python",
   "name": "python3"
  },
  "language_info": {
   "codemirror_mode": {
    "name": "ipython",
    "version": 3
   },
   "file_extension": ".py",
   "mimetype": "text/x-python",
   "name": "python",
   "nbconvert_exporter": "python",
   "pygments_lexer": "ipython3",
   "version": "3.12.11"
  }
 },
 "nbformat": 4,
 "nbformat_minor": 2
}
