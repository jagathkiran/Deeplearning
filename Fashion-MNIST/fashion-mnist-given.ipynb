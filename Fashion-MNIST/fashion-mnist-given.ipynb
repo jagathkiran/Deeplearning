{
 "cells": [
  {
   "cell_type": "code",
   "execution_count": 1,
   "metadata": {},
   "outputs": [
    {
     "name": "stderr",
     "output_type": "stream",
     "text": [
      "Using TensorFlow backend.\n"
     ]
    }
   ],
   "source": [
    "import pandas as pd\n",
    "import tensorflow as tf\n",
    "import keras"
   ]
  },
  {
   "cell_type": "code",
   "execution_count": 2,
   "metadata": {
    "collapsed": true
   },
   "outputs": [],
   "source": [
    "# Reading train and test data\n",
    "train_data = pd.read_csv('fashion-mnist_train.csv')"
   ]
  },
  {
   "cell_type": "code",
   "execution_count": 3,
   "metadata": {
    "collapsed": true
   },
   "outputs": [],
   "source": [
    "# Class names\n",
    "class_names = ['T-shirt/top', 'Trouser', 'Pullover', 'Dress', 'Coat', \n",
    "               'Sandal', 'Shirt', 'Sneaker', 'Bag', 'Ankle boot']"
   ]
  },
  {
   "cell_type": "code",
   "execution_count": 4,
   "metadata": {
    "collapsed": true
   },
   "outputs": [],
   "source": [
    "# Making validation data out of test data\n",
    "val_data = test_data.iloc[:5000,:]\n",
    "test_data = test_data.iloc[5000:,:]\n",
    "\n",
    "# Fetching the labels\n",
    "train_labels = train_data.label\n",
    "val_labels = val_data.label\n",
    "test_labels = test_data.label\n",
    "\n",
    "# Reshaping training data\n",
    "train_images = train_data.iloc[:,1:].values.reshape(60000, 28, 28)\n",
    "\n",
    "# Reshaping validation data\n",
    "val_images = val_data.iloc[:,1:].values.reshape(5000, 28, 28)\n",
    "\n",
    "# Scaling data in the range of 0-1\n",
    "train_images = train_images/255.0\n",
    "val_images = val_images/255.0"
   ]
  },
  {
   "cell_type": "code",
   "execution_count": 5,
   "metadata": {},
   "outputs": [
    {
     "name": "stdout",
     "output_type": "stream",
     "text": [
      "Train on 60000 samples, validate on 5000 samples\n",
      "Epoch 1/5\n",
      "60000/60000 [==============================] - 12s 199us/step - loss: 3.6135 - acc: 0.1437 - val_loss: 2.3245 - val_acc: 0.1288\n",
      "Epoch 2/5\n",
      "60000/60000 [==============================] - 10s 174us/step - loss: 2.2981 - acc: 0.1184 - val_loss: 2.2977 - val_acc: 0.1038\n",
      "Epoch 3/5\n",
      "60000/60000 [==============================] - 10s 171us/step - loss: 2.9249 - acc: 0.1090 - val_loss: 2.9633 - val_acc: 0.1654\n",
      "Epoch 4/5\n",
      "60000/60000 [==============================] - 10s 164us/step - loss: 2.2949 - acc: 0.1481 - val_loss: 2.3012 - val_acc: 0.1240\n",
      "Epoch 5/5\n",
      "60000/60000 [==============================] - 11s 175us/step - loss: 2.2998 - acc: 0.1266 - val_loss: 2.3007 - val_acc: 0.1032\n"
     ]
    }
   ],
   "source": [
    "# Defining multi-layer perceptron model with 1 hidden layer having 1 neuron\n",
    "model = keras.Sequential([\n",
    "    keras.layers.Flatten(input_shape=(28, 28)), # Perform conversion of higher dimensional data (here, 2-D) to 1-D data.\n",
    "    keras.layers.Dense(1, activation=tf.keras.activations.linear), # Hidden layer with 1 neuron and linear activation function\n",
    "    keras.layers.Dense(10, activation=tf.keras.activations.linear) # Output layer with linear activation function \n",
    "])                                                   \n",
    "\n",
    "# Defining parameters like optimizer, loss function and evaluating metric\n",
    "model.compile(loss='sparse_categorical_crossentropy',\n",
    "              optimizer=keras.optimizers.Adam(), # Learning rate and momentum can be passed inside optimizer\n",
    "              metrics=['accuracy'])\n",
    "\n",
    "model1 = model.fit(train_images, train_labels, epochs=5, validation_data=(val_images, val_labels))"
   ]
  },
  {
   "cell_type": "code",
   "execution_count": 17,
   "metadata": {},
   "outputs": [
    {
     "name": "stdout",
     "output_type": "stream",
     "text": [
      "Train on 60000 samples, validate on 5000 samples\n",
      "Epoch 1/5\n",
      "60000/60000 [==============================] - 13s 212us/step - loss: 2.8137 - acc: 0.3029 - val_loss: 2.3026 - val_acc: 0.2058\n",
      "Epoch 2/5\n",
      "60000/60000 [==============================] - 11s 191us/step - loss: 2.3030 - acc: 0.2422 - val_loss: 2.3026 - val_acc: 0.2450\n",
      "Epoch 3/5\n",
      "60000/60000 [==============================] - 10s 172us/step - loss: 2.3029 - acc: 0.4200 - val_loss: 2.3026 - val_acc: 0.4330\n",
      "Epoch 4/5\n",
      "60000/60000 [==============================] - 9s 156us/step - loss: 2.3026 - acc: 0.4365 - val_loss: 2.3026 - val_acc: 0.4330\n",
      "Epoch 5/5\n",
      "60000/60000 [==============================] - 9s 144us/step - loss: 2.3026 - acc: 0.4365 - val_loss: 2.3026 - val_acc: 0.4330\n"
     ]
    }
   ],
   "source": [
    "# Defining multi-layer perceptron model with 1 hidden layer having 10 neurons \n",
    "model = keras.Sequential([\n",
    "    keras.layers.Flatten(input_shape=(28, 28)), # Perform conversion of higher dimensional data (here, 2-D) to 1-D data.\n",
    "    keras.layers.Dense(10, activation=tf.keras.activations.linear), # Hidden layer with 10 neurons and linear activation function\n",
    "    keras.layers.Dense(10, activation=tf.keras.activations.linear) # Output layer with linear activation function \n",
    "])\n",
    "\n",
    "# Defining parameters like optimizer, loss function and evaluating metric\n",
    "model.compile(loss='sparse_categorical_crossentropy',\n",
    "              optimizer=keras.optimizers.Adam(), # Learning rate and momentum can be passed inside optimizer\n",
    "              metrics=['accuracy'])\n",
    "\n",
    "model2 = model.fit(train_images, train_labels, epochs=5, validation_data=(val_images, val_labels))"
   ]
  },
  {
   "cell_type": "code",
   "execution_count": 18,
   "metadata": {},
   "outputs": [
    {
     "name": "stdout",
     "output_type": "stream",
     "text": [
      "Train on 60000 samples, validate on 5000 samples\n",
      "Epoch 1/5\n",
      "60000/60000 [==============================] - 10s 164us/step - loss: 0.6410 - acc: 0.7875 - val_loss: 0.4913 - val_acc: 0.8318\n",
      "Epoch 2/5\n",
      "60000/60000 [==============================] - 10s 164us/step - loss: 0.4652 - acc: 0.8377 - val_loss: 0.4620 - val_acc: 0.8402\n",
      "Epoch 3/5\n",
      "60000/60000 [==============================] - 13s 217us/step - loss: 0.4401 - acc: 0.8468 - val_loss: 0.4527 - val_acc: 0.8404\n",
      "Epoch 4/5\n",
      "60000/60000 [==============================] - 11s 176us/step - loss: 0.4243 - acc: 0.8514 - val_loss: 0.4385 - val_acc: 0.8498\n",
      "Epoch 5/5\n",
      "60000/60000 [==============================] - 11s 183us/step - loss: 0.4157 - acc: 0.8546 - val_loss: 0.4315 - val_acc: 0.8506\n"
     ]
    }
   ],
   "source": [
    "# Defining multi-layer perceptron model with 1 hidden layer having 10 neurons with non-linearity\n",
    "model = keras.Sequential([\n",
    "    keras.layers.Flatten(input_shape=(28, 28)), # Perform conversion of higher dimensional data (here, 2-D) to 1-D data.\n",
    "    keras.layers.Dense(10, activation=tf.nn.relu), # Hidden layer with 10 neurons and ReLU activation function\n",
    "    keras.layers.Dense(10, activation=tf.nn.softmax) # Output layer with softmax activation function \n",
    "])\n",
    "\n",
    "# Defining parameters like optimizer, loss function and evaluating metric\n",
    "model.compile(loss='sparse_categorical_crossentropy',\n",
    "              optimizer=keras.optimizers.Adam(), # Learning rate and momentum can be passed inside optimizer\n",
    "              metrics=['accuracy'])\n",
    "\n",
    "model3 = model.fit(train_images, train_labels, epochs=5, validation_data=(val_images, val_labels))"
   ]
  },
  {
   "cell_type": "code",
   "execution_count": 19,
   "metadata": {},
   "outputs": [
    {
     "name": "stdout",
     "output_type": "stream",
     "text": [
      "Train on 60000 samples, validate on 5000 samples\n",
      "Epoch 1/5\n",
      "60000/60000 [==============================] - 9s 155us/step - loss: 0.7507 - acc: 0.7352 - val_loss: 0.5329 - val_acc: 0.8162\n",
      "Epoch 2/5\n",
      "60000/60000 [==============================] - 8s 135us/step - loss: 0.4859 - acc: 0.8303 - val_loss: 0.4721 - val_acc: 0.8316\n",
      "Epoch 3/5\n",
      "60000/60000 [==============================] - 10s 160us/step - loss: 0.4468 - acc: 0.8434 - val_loss: 0.4324 - val_acc: 0.8502\n",
      "Epoch 4/5\n",
      "60000/60000 [==============================] - 9s 147us/step - loss: 0.4226 - acc: 0.8513 - val_loss: 0.4214 - val_acc: 0.8508\n",
      "Epoch 5/5\n",
      "60000/60000 [==============================] - 8s 131us/step - loss: 0.4084 - acc: 0.8546 - val_loss: 0.4101 - val_acc: 0.8576\n"
     ]
    }
   ],
   "source": [
    "# Defining multi-layer perceptron model with 3 hidden layer having 10 neurons each and with non-linearity\n",
    "model = keras.Sequential([\n",
    "    keras.layers.Flatten(input_shape=(28, 28)), # Perform conversion of higher dimensional data (here, 2-D) to 1-D data.\n",
    "    keras.layers.Dense(10, activation=tf.nn.relu), # Hidden layer with 10 neurons and ReLU activation function\n",
    "    keras.layers.Dense(10, activation=tf.nn.relu), # Hidden layer with 10 neurons and ReLU activation function\n",
    "    keras.layers.Dense(10, activation=tf.nn.relu), # Hidden layer with 10 neurons and ReLU activation function\n",
    "    keras.layers.Dense(10, activation=tf.nn.softmax) # Output layer with softmax activation function \n",
    "])\n",
    "\n",
    "# Defining parameters like optimizer, loss function and evaluating metric\n",
    "model.compile(loss='sparse_categorical_crossentropy',\n",
    "              optimizer=keras.optimizers.Adam(), # Learning rate and momentum can be passed inside optimizer\n",
    "              metrics=['accuracy'])\n",
    "\n",
    "model4 = model.fit(train_images, train_labels, epochs=5, validation_data=(val_images, val_labels))"
   ]
  },
  {
   "cell_type": "markdown",
   "metadata": {},
   "source": [
    "# ==========================================="
   ]
  },
  {
   "cell_type": "code",
   "execution_count": null,
   "metadata": {
    "collapsed": true
   },
   "outputs": [],
   "source": []
  }
 ],
 "metadata": {
  "kernelspec": {
   "display_name": "Python 3",
   "language": "python",
   "name": "python3"
  },
  "language_info": {
   "codemirror_mode": {
    "name": "ipython",
    "version": 3
   },
   "file_extension": ".py",
   "mimetype": "text/x-python",
   "name": "python",
   "nbconvert_exporter": "python",
   "pygments_lexer": "ipython3",
   "version": "3.6.1"
  }
 },
 "nbformat": 4,
 "nbformat_minor": 2
}
