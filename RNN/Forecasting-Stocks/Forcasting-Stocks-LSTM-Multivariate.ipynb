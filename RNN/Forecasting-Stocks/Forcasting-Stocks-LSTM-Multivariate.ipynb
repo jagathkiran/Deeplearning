{
 "cells": [
  {
   "cell_type": "code",
   "execution_count": null,
   "metadata": {},
   "outputs": [],
   "source": [
    "import numpy as np\n",
    "import pandas as pd\n",
    "import matplotlib.pyplot as plt\n",
    "import keras\n",
    "from keras.models import Sequential\n",
    "from keras.layers import LSTM\n",
    "from keras.layers import Dense, Activation, Dropout\n",
    "from sklearn.preprocessing import MinMaxScaler"
   ]
  },
  {
   "cell_type": "code",
   "execution_count": null,
   "metadata": {},
   "outputs": [],
   "source": [
    "# Loading data\n",
    "data = pd.read_csv('INFY20002008.csv')\n",
    "data.info()"
   ]
  },
  {
   "cell_type": "code",
   "execution_count": null,
   "metadata": {},
   "outputs": [],
   "source": [
    "# Selecting three columns as input \n",
    "data = data[['Last Price', 'Average Price', 'Open Price']].values"
   ]
  },
  {
   "cell_type": "code",
   "execution_count": null,
   "metadata": {},
   "outputs": [],
   "source": [
    "plt.figure(figsize=(10, 6))\n",
    "plt.plot(data[:,0]+500, '--g', label='Last Price')\n",
    "plt.plot(data[:,1], '--r', label='Average Price')\n",
    "plt.plot(data[:,2]-500, '--b', label='Open Price')\n",
    "plt.xlabel('Days', fontsize=15)\n",
    "plt.ylabel('Price', fontsize=15)\n",
    "plt.suptitle('Plot of Last, Average and Open price', fontsize=18, weight='bold')\n",
    "plt.title('with added noise to prevent overlapping')\n",
    "plt.legend()\n",
    "plt.show()"
   ]
  },
  {
   "cell_type": "code",
   "execution_count": null,
   "metadata": {
    "collapsed": true
   },
   "outputs": [],
   "source": [
    "# Scaling the values in the range of 0 to 1\n",
    "scaler = MinMaxScaler(feature_range=(0,1))\n",
    "scaled_data = scaler.fit_transform(data[:,:])"
   ]
  },
  {
   "cell_type": "code",
   "execution_count": null,
   "metadata": {},
   "outputs": [],
   "source": [
    "# Splitting dataset in the ratio of 75:25 for training and test\n",
    "train_size = int(scaled_data.shape[0] * 0.75)\n",
    "train, test = scaled_data[0:train_size, :], scaled_data[train_size:scaled_data.shape[0], :]\n",
    "print(\"Number of entries (training set, test set): \" + str((len(train), len(test))))"
   ]
  },
  {
   "cell_type": "code",
   "execution_count": null,
   "metadata": {
    "collapsed": true
   },
   "outputs": [],
   "source": [
    "def create_dataset(ser, window_size=1):\n",
    "    data_X, data_Y = [], []\n",
    "    for i in range(len(ser) - window_size - 1):\n",
    "        a = []\n",
    "        for j in range(0, window_size):        \n",
    "            a.append(ser[[(i+j)], :])\n",
    "        data_X.append(a)\n",
    "        data_Y.append(ser[i + window_size, 1])\n",
    "    return(np.array(data_X), np.array(data_Y))"
   ]
  },
  {
   "cell_type": "code",
   "execution_count": null,
   "metadata": {},
   "outputs": [],
   "source": [
    "window_size = 50\n",
    "train_X, train_Y = create_dataset(train, window_size)\n",
    "test_X, test_Y = create_dataset(test, window_size)\n",
    "print(\"Original training data shape:\")\n",
    "print(train_X.shape, test_X.shape)\n",
    "\n",
    "# Reshape the input data into appropriate form for Keras.\n",
    "train_X = np.reshape(train_X, (train_X.shape[0], train_X.shape[1], 3))\n",
    "test_X = np.reshape(test_X, (test_X.shape[0], test_X.shape[1], 3))\n",
    "print(\"New training data shape:\")\n",
    "print(train_X.shape, test_X.shape)"
   ]
  },
  {
   "cell_type": "code",
   "execution_count": null,
   "metadata": {},
   "outputs": [],
   "source": [
    "# Designing the LSTM model\n",
    "model = Sequential()\n",
    "model.add(LSTM(4, input_shape = (window_size, 3)))\n",
    "model.add(Dense(1))\n",
    "\n",
    "# Compiling the model\n",
    "model.compile(loss = \"mean_squared_error\", optimizer = \"adam\")\n",
    "\n",
    "# Training the model\n",
    "model.fit(train_X, train_Y, epochs=3, batch_size=1)"
   ]
  },
  {
   "cell_type": "code",
   "execution_count": null,
   "metadata": {},
   "outputs": [],
   "source": [
    "# Visualization\n",
    "plt.figure(figsize = (15, 5))\n",
    "plt.plot(np.concatenate((train[:,1], test[:,1])), '--b', label='True value')\n",
    "\n",
    "plt.plot(range(window_size, len(train_X) + window_size), model.predict(train_X), '-r', label='Training set prediction')\n",
    "plt.plot(range(window_size + len(train), len(train) + len(test) - 1), model.predict(test_X), '-g', label='Test set prediction')\n",
    "\n",
    "plt.xlabel(\"Days\")\n",
    "plt.ylabel(\"Average Price\")\n",
    "plt.title(\"Comparison true vs. predicted training / test\", fontsize=16)\n",
    "plt.legend()\n",
    "plt.xlim(-5, 2500)\n",
    "plt.show()"
   ]
  },
  {
   "cell_type": "code",
   "execution_count": null,
   "metadata": {
    "collapsed": true
   },
   "outputs": [],
   "source": []
  }
 ],
 "metadata": {
  "kernelspec": {
   "display_name": "deepl-env",
   "language": "python",
   "name": "python3"
  },
  "language_info": {
   "codemirror_mode": {
    "name": "ipython",
    "version": 3
   },
   "file_extension": ".py",
   "mimetype": "text/x-python",
   "name": "python",
   "nbconvert_exporter": "python",
   "pygments_lexer": "ipython3",
   "version": "3.12.11"
  }
 },
 "nbformat": 4,
 "nbformat_minor": 2
}
