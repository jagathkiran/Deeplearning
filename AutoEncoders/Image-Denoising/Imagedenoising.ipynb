{
 "cells": [
  {
   "cell_type": "code",
   "execution_count": null,
   "metadata": {
    "collapsed": true
   },
   "outputs": [],
   "source": [
    "import pandas as pd\n",
    "import numpy as np\n",
    "import matplotlib.pyplot as plt\n",
    "from PIL import Image\n",
    "import os"
   ]
  },
  {
   "cell_type": "code",
   "execution_count": null,
   "metadata": {},
   "outputs": [],
   "source": [
    "img = np.array(Image.open('cifar10/5.png'))\n",
    "plt.imshow(img)\n",
    "plt.show()"
   ]
  },
  {
   "cell_type": "code",
   "execution_count": null,
   "metadata": {
    "collapsed": true
   },
   "outputs": [],
   "source": [
    "img_arr = []\n",
    "for i in range(1, 151):\n",
    "    img_path = os.path.join('cifar10/'+str(i) +'.png')\n",
    "    img = np.array(Image.open(img_path))/255.\n",
    "    img_arr.append(img)    "
   ]
  },
  {
   "cell_type": "code",
   "execution_count": null,
   "metadata": {},
   "outputs": [],
   "source": [
    "# Converting back to numpy array\n",
    "img_arr = np.array(img_arr)\n",
    "img_arr.shape"
   ]
  },
  {
   "cell_type": "code",
   "execution_count": null,
   "metadata": {},
   "outputs": [],
   "source": [
    "plt.imshow(img_arr[4])\n",
    "plt.show()"
   ]
  },
  {
   "cell_type": "code",
   "execution_count": null,
   "metadata": {},
   "outputs": [],
   "source": [
    "# Adding random noise to the images\n",
    "noise_factor = 0.05\n",
    "noisy_imgs = img_arr + noise_factor * np.random.normal(size=img.shape)\n",
    "\n",
    "# Image with noise\n",
    "plt.imshow(noisy_imgs[4])\n",
    "plt.show()"
   ]
  },
  {
   "cell_type": "code",
   "execution_count": null,
   "metadata": {},
   "outputs": [],
   "source": [
    "from keras.layers import Input, Conv2D, MaxPooling2D, UpSampling2D\n",
    "from keras.models import Model"
   ]
  },
  {
   "cell_type": "code",
   "execution_count": null,
   "metadata": {
    "collapsed": true
   },
   "outputs": [],
   "source": [
    "def auto_encoder(img):\n",
    "    # Encoder module\n",
    "    f_size = 3 # filter size\n",
    "    p_size = 1 # pool size\n",
    "    conv_1 = Conv2D(32, (f_size, f_size), activation='relu', padding='same')(img)\n",
    "    pool_1 = MaxPooling2D(pool_size=(p_size, p_size))(conv_1) \n",
    "    conv_2 = Conv2D(64, (f_size, f_size), activation='relu', padding='same')(pool_1)\n",
    "    pool_2 = MaxPooling2D(pool_size=(p_size, p_size))(conv_2) \n",
    "    conv_3 = Conv2D(128, (f_size, f_size), activation='relu', padding='same')(pool_2) \n",
    "\n",
    "    # Decoder module\n",
    "    conv_4 = Conv2D(128, (f_size, f_size), activation='relu', padding='same')(conv_3) \n",
    "    up_1 = UpSampling2D((p_size, p_size))(conv_4) \n",
    "    conv_5 = Conv2D(64, (f_size, f_size), activation='relu', padding='same')(up_1) \n",
    "    up_2 = UpSampling2D((p_size, p_size))(conv_5) \n",
    "    decoded = Conv2D(3, (f_size, f_size), activation='sigmoid', padding='same')(up_2) \n",
    "    return decoded"
   ]
  },
  {
   "cell_type": "code",
   "execution_count": null,
   "metadata": {},
   "outputs": [],
   "source": [
    "img = Input(shape=(32, 32, 3))\n",
    "model = Model(img, auto_encoder(img))\n",
    "model.compile(loss='mean_squared_error', optimizer='adam')\n",
    "model.summary()"
   ]
  },
  {
   "cell_type": "code",
   "execution_count": null,
   "metadata": {},
   "outputs": [],
   "source": [
    "model.fit(noisy_imgs[:120], img_arr[:120], epochs=10, validation_split=0.2)"
   ]
  },
  {
   "cell_type": "code",
   "execution_count": null,
   "metadata": {
    "collapsed": true
   },
   "outputs": [],
   "source": [
    "pred = model.predict(img_arr)"
   ]
  },
  {
   "cell_type": "code",
   "execution_count": null,
   "metadata": {},
   "outputs": [],
   "source": [
    "plt.figure(figsize=(10, 5))\n",
    "\n",
    "ax1 = plt.subplot2grid((1, 3), (0,0))\n",
    "ax1.set_title('Original image', fontsize='large')\n",
    "ax1.imshow(img_arr[4])\n",
    "\n",
    "ax2 = plt.subplot2grid((1, 3), (0,1))\n",
    "ax2.set_title('Noisy image', fontsize='large')\n",
    "ax2.imshow(noisy_imgs[4])\n",
    "\n",
    "ax3 = plt.subplot2grid((1, 3), (0,2))\n",
    "ax3.set_title('Reconstructed image', fontsize='large')\n",
    "ax3.imshow(pred[4])\n",
    "\n",
    "plt.show()"
   ]
  },
  {
   "cell_type": "code",
   "execution_count": null,
   "metadata": {},
   "outputs": [],
   "source": [
    "plt.figure(figsize=(10, 5))\n",
    "\n",
    "ax1 = plt.subplot2grid((1, 3), (0,0))\n",
    "ax1.set_title('Original image', fontsize='large')\n",
    "ax1.imshow(img_arr[131])\n",
    "\n",
    "ax2 = plt.subplot2grid((1, 3), (0,1))\n",
    "ax2.set_title('Noisy image', fontsize='large')\n",
    "ax2.imshow(noisy_imgs[131])\n",
    "\n",
    "ax3 = plt.subplot2grid((1, 3), (0,2))\n",
    "ax3.set_title('Reconstructed image', fontsize='large')\n",
    "ax3.imshow(pred[131])\n",
    "\n",
    "plt.show()"
   ]
  }
 ],
 "metadata": {
  "kernelspec": {
   "display_name": "deepl-env",
   "language": "python",
   "name": "python3"
  },
  "language_info": {
   "codemirror_mode": {
    "name": "ipython",
    "version": 3
   },
   "file_extension": ".py",
   "mimetype": "text/x-python",
   "name": "python",
   "nbconvert_exporter": "python",
   "pygments_lexer": "ipython3",
   "version": "3.11.13"
  }
 },
 "nbformat": 4,
 "nbformat_minor": 2
}
