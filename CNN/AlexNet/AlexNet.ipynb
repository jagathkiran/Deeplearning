{
 "cells": [
  {
   "cell_type": "markdown",
   "id": "7d7a937a",
   "metadata": {},
   "source": [
    "### AlexNet Demonstration"
   ]
  },
  {
   "cell_type": "code",
   "execution_count": null,
   "id": "2fa48a0f",
   "metadata": {},
   "outputs": [],
   "source": [
    "#Import keras\n",
    "import numpy as np\n",
    "from keras.datasets import mnist\n",
    "import matplotlib.pyplot as plt\n",
    "#--------------------------------------------------\n",
    "#Load data set\n",
    "(x_train, y_train), (x_test, y_test) = mnist.load_data()\n",
    "print(x_train.shape)\n",
    "print(x_test.shape)"
   ]
  },
  {
   "cell_type": "code",
   "execution_count": null,
   "id": "b59b9cb9",
   "metadata": {},
   "outputs": [],
   "source": [
    "element = 200\n",
    "plt.imshow(x_train[element])\n",
    "plt.show()\n",
    "print(\"Label for the element\", element,\":\", y_train[element])\n",
    "x_train = x_train.reshape((-1, 28*28))\n",
    "x_test = x_test.reshape((-1, 784))\n",
    "print(x_train.shape)\n",
    "print(x_test.shape)\n",
    "x_train = x_train / 255\n",
    "x_test = x_test / 255"
   ]
  },
  {
   "cell_type": "code",
   "execution_count": null,
   "id": "92393f8c",
   "metadata": {},
   "outputs": [],
   "source": [
    "from keras.models import Sequential\n",
    "from keras.utils import to_categorical\n",
    "from keras.layers import Dense, Dropout, Activation, Flatten\n",
    "from keras.layers import Conv2D, MaxPooling2D\n",
    "from keras.layers import BatchNormalization"
   ]
  },
  {
   "cell_type": "code",
   "execution_count": null,
   "id": "4ead97db",
   "metadata": {},
   "outputs": [],
   "source": [
    "# creating model\n",
    "model = Sequential()  \n",
    "# 1st Convolutional Layer \n",
    "model.add(Conv2D(filters = 96, input_shape = (60000,784, 3),kernel_size = (11, 11), strides = (4, 4), padding = 'valid')) \n",
    "model.add(Activation('relu')) \n",
    "# Max-Pooling  \n",
    "model.add(MaxPooling2D(pool_size = (2, 2),strides = (2, 2), padding = 'valid')) \n",
    "# Batch Normalisation \n",
    "model.add(BatchNormalization()) "
   ]
  },
  {
   "cell_type": "code",
   "execution_count": null,
   "id": "8ec8d61b",
   "metadata": {},
   "outputs": [],
   "source": [
    "# 2nd Convolutional Layer \n",
    "model.add(Conv2D(filters = 256, kernel_size = (3, 3),strides = (1, 1), padding = 'valid')) \n",
    "model.add(Activation('relu')) \n",
    "# Max-Pooling \n",
    "model.add(MaxPooling2D(pool_size = (2, 2), strides = (2, 2),padding = 'valid')) \n",
    "# Batch Normalisation \n",
    "model.add(BatchNormalization()) "
   ]
  },
  {
   "cell_type": "code",
   "execution_count": null,
   "id": "d998638c",
   "metadata": {},
   "outputs": [],
   "source": [
    "# 3rd Convolutional Layer \n",
    "model.add(Conv2D(filters = 384, kernel_size = (3, 3),strides = (1, 1), padding = 'valid')) \n",
    "model.add(Activation('relu')) \n",
    "# Batch Normalisation \n",
    "model.add(BatchNormalization()) "
   ]
  },
  {
   "cell_type": "code",
   "execution_count": null,
   "id": "7e156e3a",
   "metadata": {},
   "outputs": [],
   "source": [
    "# 4th Convolutional Layer \n",
    "model.add(Conv2D(filters = 384, kernel_size = (3, 3),strides = (1, 1), padding = 'valid')) \n",
    "model.add(Activation('relu')) \n",
    "# Batch Normalisation \n",
    "model.add(BatchNormalization()) "
   ]
  },
  {
   "cell_type": "code",
   "execution_count": null,
   "id": "cca31701",
   "metadata": {},
   "outputs": [],
   "source": [
    "# 5th Convolutional Layer \n",
    "model.add(Conv2D(filters = 256, kernel_size = (3, 3),strides = (1, 1), padding = 'valid')) \n",
    "model.add(Activation('relu')) \n",
    "# Max-Pooling \n",
    "model.add(MaxPooling2D(pool_size = (2, 2), strides = (2, 2), padding = 'valid')) \n",
    "# Batch Normalisation \n",
    "model.add(BatchNormalization()) "
   ]
  },
  {
   "cell_type": "code",
   "execution_count": null,
   "id": "8c4ef136",
   "metadata": {},
   "outputs": [],
   "source": [
    "# Flattening \n",
    "model.add(Flatten()) "
   ]
  },
  {
   "cell_type": "code",
   "execution_count": null,
   "id": "f27c843d",
   "metadata": {},
   "outputs": [],
   "source": [
    "# 1st Dense Layer \n",
    "model.add(Dense(4096, input_shape = (224*224*3, ))) \n",
    "model.add(Activation('relu')) \n",
    "# Add Dropout to prevent overfitting \n",
    "model.add(Dropout(0.4)) \n",
    "# Batch Normalisation \n",
    "model.add(BatchNormalization()) "
   ]
  },
  {
   "cell_type": "code",
   "execution_count": null,
   "id": "1479a2d5",
   "metadata": {},
   "outputs": [],
   "source": [
    "# 2nd Dense Layer \n",
    "model.add(Dense(4096)) \n",
    "model.add(Activation('relu')) \n",
    "# Add Dropout \n",
    "model.add(Dropout(0.4)) \n",
    "# Batch Normalisation \n",
    "model.add(BatchNormalization()) "
   ]
  },
  {
   "cell_type": "code",
   "execution_count": null,
   "id": "7f04b508",
   "metadata": {},
   "outputs": [],
   "source": [
    "# Output Softmax Layer \n",
    "model.add(Dense(10)) \n",
    "model.add(Activation('softmax'))"
   ]
  },
  {
   "cell_type": "code",
   "execution_count": null,
   "id": "310a5cd1",
   "metadata": {},
   "outputs": [],
   "source": [
    "# compile the model\n",
    "model.compile(optimizer='Adam',loss='categorical_crossentropy',metrics=['accuracy'])\n",
    "y=to_categorical(y_train)"
   ]
  },
  {
   "cell_type": "code",
   "execution_count": null,
   "id": "d2c7eb6a",
   "metadata": {},
   "outputs": [],
   "source": [
    "# Fit the model\n",
    "model.fit(x=x_train,y=to_categorical(y_train),epochs=10,batch_size=64,shuffle=True)"
   ]
  },
  {
   "cell_type": "code",
   "execution_count": null,
   "id": "4a6de4f1",
   "metadata": {},
   "outputs": [],
   "source": [
    "# Evaluate the model\n",
    "eval = model.evaluate(x_test, to_categorical(y_test))\n",
    "print('eval')"
   ]
  },
  {
   "cell_type": "code",
   "execution_count": null,
   "id": "4c6c52e8",
   "metadata": {},
   "outputs": [],
   "source": [
    "# Predictions\n",
    "predictions = model.predict(x_test[0:100])\n",
    "predictions[0]\n",
    "np.argmax(predictions[0])\n",
    "plt.imshow(x_test[0].reshape(28,28))"
   ]
  }
 ],
 "metadata": {
  "kernelspec": {
   "display_name": "deepl-env",
   "language": "python",
   "name": "python3"
  },
  "language_info": {
   "codemirror_mode": {
    "name": "ipython",
    "version": 3
   },
   "file_extension": ".py",
   "mimetype": "text/x-python",
   "name": "python",
   "nbconvert_exporter": "python",
   "pygments_lexer": "ipython3",
   "version": "3.11.13"
  }
 },
 "nbformat": 4,
 "nbformat_minor": 5
}
